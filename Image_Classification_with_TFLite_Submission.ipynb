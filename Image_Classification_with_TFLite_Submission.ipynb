{
  "nbformat": 4,
  "nbformat_minor": 0,
  "metadata": {
    "colab": {
      "name": "Image Classification with TFLite Submission.ipynb",
      "provenance": [],
      "collapsed_sections": []
    },
    "kernelspec": {
      "display_name": "Python 3",
      "name": "python3"
    },
    "accelerator": "GPU"
  },
  "cells": [
    {
      "cell_type": "markdown",
      "metadata": {
        "id": "xk4kn364jngR"
      },
      "source": [
        "Best Use with Hardware Accelerator (GPU)"
      ]
    },
    {
      "cell_type": "code",
      "metadata": {
        "id": "m3mZwLAd5qbp"
      },
      "source": [
        "import numpy as np\n",
        "import zipfile\n",
        "import os\n",
        "import shutil\n",
        "import math\n",
        "import tensorflow as tf\n",
        "import tensorflow.keras.layers as layers\n",
        "from google.colab import files\n",
        "from tensorflow.keras.preprocessing.image import ImageDataGenerator\n",
        "from matplotlib import pyplot as plt\n",
        "from tensorflow.keras.layers import Input\n",
        "from keras.callbacks import LearningRateScheduler"
      ],
      "execution_count": 1,
      "outputs": []
    },
    {
      "cell_type": "code",
      "metadata": {
        "id": "-PvAHvA6lDs-",
        "outputId": "ec716e76-2afe-446e-e6af-9a9ae32b3a34",
        "colab": {
          "resources": {
            "http://localhost:8080/nbextensions/google.colab/files.js": {
              "data": "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",
              "ok": true,
              "headers": [
                [
                  "content-type",
                  "application/javascript"
                ]
              ],
              "status": 200,
              "status_text": ""
            }
          },
          "base_uri": "https://localhost:8080/",
          "height": 108
        }
      },
      "source": [
        "print(\"Please put your kaggle.json here! (Name must be kaggle.json)!\")\n",
        "uploaded_file = files.upload()\n",
        "content_directory = \"/content/\"\n",
        "kaggle_json_name = 'kaggle.json'\n",
        "try:\n",
        "  kaggle_json_item = content_directory + kaggle_json_name\n",
        "  open(kaggle_json_item, \"r\")\n",
        "  print(\"Kaggle.json has been uploaded!\")\n",
        "  shutil.move(kaggle_json_item, \"/root/\" + kaggle_json_name)\n",
        "except FileNotFoundError as e:\n",
        "  items = uploaded_file.items()\n",
        "  print(\"Got different filename instead of 'kaggle.json'. Please rename the file and try again!\")\n",
        "  for item in items:\n",
        "    os.remove(content_directory + item[0])"
      ],
      "execution_count": 2,
      "outputs": [
        {
          "output_type": "stream",
          "text": [
            "Please put your kaggle.json here! (Name must be kaggle.json)!\n"
          ],
          "name": "stdout"
        },
        {
          "output_type": "display_data",
          "data": {
            "text/html": [
              "\n",
              "     <input type=\"file\" id=\"files-2d773ebf-4d6b-4c30-ba0f-f91cef41607c\" name=\"files[]\" multiple disabled\n",
              "        style=\"border:none\" />\n",
              "     <output id=\"result-2d773ebf-4d6b-4c30-ba0f-f91cef41607c\">\n",
              "      Upload widget is only available when the cell has been executed in the\n",
              "      current browser session. Please rerun this cell to enable.\n",
              "      </output>\n",
              "      <script src=\"/nbextensions/google.colab/files.js\"></script> "
            ],
            "text/plain": [
              "<IPython.core.display.HTML object>"
            ]
          },
          "metadata": {
            "tags": []
          }
        },
        {
          "output_type": "stream",
          "text": [
            "Saving kaggle.json to kaggle.json\n",
            "Kaggle.json has been uploaded!\n"
          ],
          "name": "stdout"
        }
      ]
    },
    {
      "cell_type": "code",
      "metadata": {
        "id": "k_s4HMVVy_kt",
        "outputId": "ad385ee0-de2b-4475-902d-8ff4483dc7e6",
        "colab": {
          "base_uri": "https://localhost:8080/",
          "height": 35
        }
      },
      "source": [
        "root_directory = '/root/'\n",
        "kaggle_directory = root_directory + \".kaggle/\"\n",
        "try:\n",
        "  os.mkdir(kaggle_directory)\n",
        "except FileExistsError as e:\n",
        "  print(\".kaggle directory has been created! Skipping creating directory...\")\n",
        "try:\n",
        "  shutil.move(root_directory + kaggle_json_name, kaggle_directory)\n",
        "  ! chmod 600 /root/.kaggle/kaggle.json\n",
        "except:\n",
        "  print(kaggle_json_name + \" not found in root directory. It may have been moved or deleted!\")\n",
        "\n",
        "print(\"Process finished!\")"
      ],
      "execution_count": 3,
      "outputs": [
        {
          "output_type": "stream",
          "text": [
            "Process finished!\n"
          ],
          "name": "stdout"
        }
      ]
    },
    {
      "cell_type": "code",
      "metadata": {
        "id": "he8MYT8HiFwA",
        "outputId": "7b209c7f-4c2b-4377-d32e-fc091276e449",
        "colab": {
          "base_uri": "https://localhost:8080/",
          "height": 284
        }
      },
      "source": [
        "! pip install kaggle\n",
        "! kaggle datasets download -d jessicali9530/stanford-dogs-dataset"
      ],
      "execution_count": 4,
      "outputs": [
        {
          "output_type": "stream",
          "text": [
            "Requirement already satisfied: kaggle in /usr/local/lib/python3.6/dist-packages (1.5.8)\n",
            "Requirement already satisfied: slugify in /usr/local/lib/python3.6/dist-packages (from kaggle) (0.0.1)\n",
            "Requirement already satisfied: python-dateutil in /usr/local/lib/python3.6/dist-packages (from kaggle) (2.8.1)\n",
            "Requirement already satisfied: requests in /usr/local/lib/python3.6/dist-packages (from kaggle) (2.23.0)\n",
            "Requirement already satisfied: urllib3<1.25,>=1.21.1 in /usr/local/lib/python3.6/dist-packages (from kaggle) (1.24.3)\n",
            "Requirement already satisfied: six>=1.10 in /usr/local/lib/python3.6/dist-packages (from kaggle) (1.15.0)\n",
            "Requirement already satisfied: certifi in /usr/local/lib/python3.6/dist-packages (from kaggle) (2020.6.20)\n",
            "Requirement already satisfied: python-slugify in /usr/local/lib/python3.6/dist-packages (from kaggle) (4.0.1)\n",
            "Requirement already satisfied: tqdm in /usr/local/lib/python3.6/dist-packages (from kaggle) (4.41.1)\n",
            "Requirement already satisfied: idna<3,>=2.5 in /usr/local/lib/python3.6/dist-packages (from requests->kaggle) (2.10)\n",
            "Requirement already satisfied: chardet<4,>=3.0.2 in /usr/local/lib/python3.6/dist-packages (from requests->kaggle) (3.0.4)\n",
            "Requirement already satisfied: text-unidecode>=1.3 in /usr/local/lib/python3.6/dist-packages (from python-slugify->kaggle) (1.3)\n",
            "Downloading stanford-dogs-dataset.zip to /content\n",
            " 98% 737M/750M [00:07<00:00, 112MB/s] \n",
            "100% 750M/750M [00:07<00:00, 108MB/s]\n"
          ],
          "name": "stdout"
        }
      ]
    },
    {
      "cell_type": "code",
      "metadata": {
        "id": "GqlbT17n6rnR",
        "outputId": "071e19bf-7500-4924-ae00-5247912647bf",
        "colab": {
          "base_uri": "https://localhost:8080/",
          "height": 35
        }
      },
      "source": [
        "zip_path = content_directory + 'stanford-dogs-dataset.zip'\n",
        "dataset_path = content_directory + 'datasets/'\n",
        "annotations_directory = dataset_path + 'annotations/'\n",
        "zip_file = zipfile.ZipFile(zip_path, 'r')\n",
        "zip_file.extractall(dataset_path)\n",
        "zip_file.close()\n",
        "\n",
        "shutil.rmtree(annotations_directory)\n",
        "print(\"Images have been successfully extracted!\")"
      ],
      "execution_count": 5,
      "outputs": [
        {
          "output_type": "stream",
          "text": [
            "Images have been successfully extracted!\n"
          ],
          "name": "stdout"
        }
      ]
    },
    {
      "cell_type": "code",
      "metadata": {
        "id": "gCw8ex_t-eIs",
        "outputId": "f8662d7f-3386-4dc6-9d83-38be8b7c73ce",
        "colab": {
          "base_uri": "https://localhost:8080/",
          "height": 1000
        }
      },
      "source": [
        "# Rename all folders, so all names consist of words only\n",
        "def split_values(labels, split_char, start_split_index):\n",
        "  list_labels = []\n",
        "  for label in labels:\n",
        "    temp_label = label.split(split_char)\n",
        "    temp_sliced_labels = temp_label[:][start_split_index:]\n",
        "    new_string = \"\"\n",
        "    for temp_sliced_label in temp_sliced_labels:\n",
        "      new_string += str(temp_sliced_label) + ' '\n",
        "    list_labels.append(new_string)\n",
        "  return list_labels\n",
        "\n",
        "images_directory_path = dataset_path + 'images/Images/'\n",
        "all_images_directory_name = sorted(os.listdir(images_directory_path))\n",
        "first_split_labels = split_values(all_images_directory_name, '-', 1)\n",
        "second_split_labels = split_values(first_split_labels, '_', 0)\n",
        "currentIndex = 0\n",
        "for image_directory_name in all_images_directory_name:\n",
        "  print(\"Renaming {} to {}\".format(images_directory_path + image_directory_name, images_directory_path + second_split_labels[currentIndex]))\n",
        "  os.rename(images_directory_path + image_directory_name, images_directory_path + second_split_labels[currentIndex])\n",
        "  currentIndex += 1\n",
        "print(\"All Directories' name have been fixed! Happy classifying!\")"
      ],
      "execution_count": 6,
      "outputs": [
        {
          "output_type": "stream",
          "text": [
            "Renaming /content/datasets/images/Images/n02085620-Chihuahua to /content/datasets/images/Images/Chihuahua  \n",
            "Renaming /content/datasets/images/Images/n02085782-Japanese_spaniel to /content/datasets/images/Images/Japanese spaniel  \n",
            "Renaming /content/datasets/images/Images/n02085936-Maltese_dog to /content/datasets/images/Images/Maltese dog  \n",
            "Renaming /content/datasets/images/Images/n02086079-Pekinese to /content/datasets/images/Images/Pekinese  \n",
            "Renaming /content/datasets/images/Images/n02086240-Shih-Tzu to /content/datasets/images/Images/Shih Tzu  \n",
            "Renaming /content/datasets/images/Images/n02086646-Blenheim_spaniel to /content/datasets/images/Images/Blenheim spaniel  \n",
            "Renaming /content/datasets/images/Images/n02086910-papillon to /content/datasets/images/Images/papillon  \n",
            "Renaming /content/datasets/images/Images/n02087046-toy_terrier to /content/datasets/images/Images/toy terrier  \n",
            "Renaming /content/datasets/images/Images/n02087394-Rhodesian_ridgeback to /content/datasets/images/Images/Rhodesian ridgeback  \n",
            "Renaming /content/datasets/images/Images/n02088094-Afghan_hound to /content/datasets/images/Images/Afghan hound  \n",
            "Renaming /content/datasets/images/Images/n02088238-basset to /content/datasets/images/Images/basset  \n",
            "Renaming /content/datasets/images/Images/n02088364-beagle to /content/datasets/images/Images/beagle  \n",
            "Renaming /content/datasets/images/Images/n02088466-bloodhound to /content/datasets/images/Images/bloodhound  \n",
            "Renaming /content/datasets/images/Images/n02088632-bluetick to /content/datasets/images/Images/bluetick  \n",
            "Renaming /content/datasets/images/Images/n02089078-black-and-tan_coonhound to /content/datasets/images/Images/black and tan coonhound  \n",
            "Renaming /content/datasets/images/Images/n02089867-Walker_hound to /content/datasets/images/Images/Walker hound  \n",
            "Renaming /content/datasets/images/Images/n02089973-English_foxhound to /content/datasets/images/Images/English foxhound  \n",
            "Renaming /content/datasets/images/Images/n02090379-redbone to /content/datasets/images/Images/redbone  \n",
            "Renaming /content/datasets/images/Images/n02090622-borzoi to /content/datasets/images/Images/borzoi  \n",
            "Renaming /content/datasets/images/Images/n02090721-Irish_wolfhound to /content/datasets/images/Images/Irish wolfhound  \n",
            "Renaming /content/datasets/images/Images/n02091032-Italian_greyhound to /content/datasets/images/Images/Italian greyhound  \n",
            "Renaming /content/datasets/images/Images/n02091134-whippet to /content/datasets/images/Images/whippet  \n",
            "Renaming /content/datasets/images/Images/n02091244-Ibizan_hound to /content/datasets/images/Images/Ibizan hound  \n",
            "Renaming /content/datasets/images/Images/n02091467-Norwegian_elkhound to /content/datasets/images/Images/Norwegian elkhound  \n",
            "Renaming /content/datasets/images/Images/n02091635-otterhound to /content/datasets/images/Images/otterhound  \n",
            "Renaming /content/datasets/images/Images/n02091831-Saluki to /content/datasets/images/Images/Saluki  \n",
            "Renaming /content/datasets/images/Images/n02092002-Scottish_deerhound to /content/datasets/images/Images/Scottish deerhound  \n",
            "Renaming /content/datasets/images/Images/n02092339-Weimaraner to /content/datasets/images/Images/Weimaraner  \n",
            "Renaming /content/datasets/images/Images/n02093256-Staffordshire_bullterrier to /content/datasets/images/Images/Staffordshire bullterrier  \n",
            "Renaming /content/datasets/images/Images/n02093428-American_Staffordshire_terrier to /content/datasets/images/Images/American Staffordshire terrier  \n",
            "Renaming /content/datasets/images/Images/n02093647-Bedlington_terrier to /content/datasets/images/Images/Bedlington terrier  \n",
            "Renaming /content/datasets/images/Images/n02093754-Border_terrier to /content/datasets/images/Images/Border terrier  \n",
            "Renaming /content/datasets/images/Images/n02093859-Kerry_blue_terrier to /content/datasets/images/Images/Kerry blue terrier  \n",
            "Renaming /content/datasets/images/Images/n02093991-Irish_terrier to /content/datasets/images/Images/Irish terrier  \n",
            "Renaming /content/datasets/images/Images/n02094114-Norfolk_terrier to /content/datasets/images/Images/Norfolk terrier  \n",
            "Renaming /content/datasets/images/Images/n02094258-Norwich_terrier to /content/datasets/images/Images/Norwich terrier  \n",
            "Renaming /content/datasets/images/Images/n02094433-Yorkshire_terrier to /content/datasets/images/Images/Yorkshire terrier  \n",
            "Renaming /content/datasets/images/Images/n02095314-wire-haired_fox_terrier to /content/datasets/images/Images/wire haired fox terrier  \n",
            "Renaming /content/datasets/images/Images/n02095570-Lakeland_terrier to /content/datasets/images/Images/Lakeland terrier  \n",
            "Renaming /content/datasets/images/Images/n02095889-Sealyham_terrier to /content/datasets/images/Images/Sealyham terrier  \n",
            "Renaming /content/datasets/images/Images/n02096051-Airedale to /content/datasets/images/Images/Airedale  \n",
            "Renaming /content/datasets/images/Images/n02096177-cairn to /content/datasets/images/Images/cairn  \n",
            "Renaming /content/datasets/images/Images/n02096294-Australian_terrier to /content/datasets/images/Images/Australian terrier  \n",
            "Renaming /content/datasets/images/Images/n02096437-Dandie_Dinmont to /content/datasets/images/Images/Dandie Dinmont  \n",
            "Renaming /content/datasets/images/Images/n02096585-Boston_bull to /content/datasets/images/Images/Boston bull  \n",
            "Renaming /content/datasets/images/Images/n02097047-miniature_schnauzer to /content/datasets/images/Images/miniature schnauzer  \n",
            "Renaming /content/datasets/images/Images/n02097130-giant_schnauzer to /content/datasets/images/Images/giant schnauzer  \n",
            "Renaming /content/datasets/images/Images/n02097209-standard_schnauzer to /content/datasets/images/Images/standard schnauzer  \n",
            "Renaming /content/datasets/images/Images/n02097298-Scotch_terrier to /content/datasets/images/Images/Scotch terrier  \n",
            "Renaming /content/datasets/images/Images/n02097474-Tibetan_terrier to /content/datasets/images/Images/Tibetan terrier  \n",
            "Renaming /content/datasets/images/Images/n02097658-silky_terrier to /content/datasets/images/Images/silky terrier  \n",
            "Renaming /content/datasets/images/Images/n02098105-soft-coated_wheaten_terrier to /content/datasets/images/Images/soft coated wheaten terrier  \n",
            "Renaming /content/datasets/images/Images/n02098286-West_Highland_white_terrier to /content/datasets/images/Images/West Highland white terrier  \n",
            "Renaming /content/datasets/images/Images/n02098413-Lhasa to /content/datasets/images/Images/Lhasa  \n",
            "Renaming /content/datasets/images/Images/n02099267-flat-coated_retriever to /content/datasets/images/Images/flat coated retriever  \n",
            "Renaming /content/datasets/images/Images/n02099429-curly-coated_retriever to /content/datasets/images/Images/curly coated retriever  \n",
            "Renaming /content/datasets/images/Images/n02099601-golden_retriever to /content/datasets/images/Images/golden retriever  \n",
            "Renaming /content/datasets/images/Images/n02099712-Labrador_retriever to /content/datasets/images/Images/Labrador retriever  \n",
            "Renaming /content/datasets/images/Images/n02099849-Chesapeake_Bay_retriever to /content/datasets/images/Images/Chesapeake Bay retriever  \n",
            "Renaming /content/datasets/images/Images/n02100236-German_short-haired_pointer to /content/datasets/images/Images/German short haired pointer  \n",
            "Renaming /content/datasets/images/Images/n02100583-vizsla to /content/datasets/images/Images/vizsla  \n",
            "Renaming /content/datasets/images/Images/n02100735-English_setter to /content/datasets/images/Images/English setter  \n",
            "Renaming /content/datasets/images/Images/n02100877-Irish_setter to /content/datasets/images/Images/Irish setter  \n",
            "Renaming /content/datasets/images/Images/n02101006-Gordon_setter to /content/datasets/images/Images/Gordon setter  \n",
            "Renaming /content/datasets/images/Images/n02101388-Brittany_spaniel to /content/datasets/images/Images/Brittany spaniel  \n",
            "Renaming /content/datasets/images/Images/n02101556-clumber to /content/datasets/images/Images/clumber  \n",
            "Renaming /content/datasets/images/Images/n02102040-English_springer to /content/datasets/images/Images/English springer  \n",
            "Renaming /content/datasets/images/Images/n02102177-Welsh_springer_spaniel to /content/datasets/images/Images/Welsh springer spaniel  \n",
            "Renaming /content/datasets/images/Images/n02102318-cocker_spaniel to /content/datasets/images/Images/cocker spaniel  \n",
            "Renaming /content/datasets/images/Images/n02102480-Sussex_spaniel to /content/datasets/images/Images/Sussex spaniel  \n",
            "Renaming /content/datasets/images/Images/n02102973-Irish_water_spaniel to /content/datasets/images/Images/Irish water spaniel  \n",
            "Renaming /content/datasets/images/Images/n02104029-kuvasz to /content/datasets/images/Images/kuvasz  \n",
            "Renaming /content/datasets/images/Images/n02104365-schipperke to /content/datasets/images/Images/schipperke  \n",
            "Renaming /content/datasets/images/Images/n02105056-groenendael to /content/datasets/images/Images/groenendael  \n",
            "Renaming /content/datasets/images/Images/n02105162-malinois to /content/datasets/images/Images/malinois  \n",
            "Renaming /content/datasets/images/Images/n02105251-briard to /content/datasets/images/Images/briard  \n",
            "Renaming /content/datasets/images/Images/n02105412-kelpie to /content/datasets/images/Images/kelpie  \n",
            "Renaming /content/datasets/images/Images/n02105505-komondor to /content/datasets/images/Images/komondor  \n",
            "Renaming /content/datasets/images/Images/n02105641-Old_English_sheepdog to /content/datasets/images/Images/Old English sheepdog  \n",
            "Renaming /content/datasets/images/Images/n02105855-Shetland_sheepdog to /content/datasets/images/Images/Shetland sheepdog  \n",
            "Renaming /content/datasets/images/Images/n02106030-collie to /content/datasets/images/Images/collie  \n",
            "Renaming /content/datasets/images/Images/n02106166-Border_collie to /content/datasets/images/Images/Border collie  \n",
            "Renaming /content/datasets/images/Images/n02106382-Bouvier_des_Flandres to /content/datasets/images/Images/Bouvier des Flandres  \n",
            "Renaming /content/datasets/images/Images/n02106550-Rottweiler to /content/datasets/images/Images/Rottweiler  \n",
            "Renaming /content/datasets/images/Images/n02106662-German_shepherd to /content/datasets/images/Images/German shepherd  \n",
            "Renaming /content/datasets/images/Images/n02107142-Doberman to /content/datasets/images/Images/Doberman  \n",
            "Renaming /content/datasets/images/Images/n02107312-miniature_pinscher to /content/datasets/images/Images/miniature pinscher  \n",
            "Renaming /content/datasets/images/Images/n02107574-Greater_Swiss_Mountain_dog to /content/datasets/images/Images/Greater Swiss Mountain dog  \n",
            "Renaming /content/datasets/images/Images/n02107683-Bernese_mountain_dog to /content/datasets/images/Images/Bernese mountain dog  \n",
            "Renaming /content/datasets/images/Images/n02107908-Appenzeller to /content/datasets/images/Images/Appenzeller  \n",
            "Renaming /content/datasets/images/Images/n02108000-EntleBucher to /content/datasets/images/Images/EntleBucher  \n",
            "Renaming /content/datasets/images/Images/n02108089-boxer to /content/datasets/images/Images/boxer  \n",
            "Renaming /content/datasets/images/Images/n02108422-bull_mastiff to /content/datasets/images/Images/bull mastiff  \n",
            "Renaming /content/datasets/images/Images/n02108551-Tibetan_mastiff to /content/datasets/images/Images/Tibetan mastiff  \n",
            "Renaming /content/datasets/images/Images/n02108915-French_bulldog to /content/datasets/images/Images/French bulldog  \n",
            "Renaming /content/datasets/images/Images/n02109047-Great_Dane to /content/datasets/images/Images/Great Dane  \n",
            "Renaming /content/datasets/images/Images/n02109525-Saint_Bernard to /content/datasets/images/Images/Saint Bernard  \n",
            "Renaming /content/datasets/images/Images/n02109961-Eskimo_dog to /content/datasets/images/Images/Eskimo dog  \n",
            "Renaming /content/datasets/images/Images/n02110063-malamute to /content/datasets/images/Images/malamute  \n",
            "Renaming /content/datasets/images/Images/n02110185-Siberian_husky to /content/datasets/images/Images/Siberian husky  \n",
            "Renaming /content/datasets/images/Images/n02110627-affenpinscher to /content/datasets/images/Images/affenpinscher  \n",
            "Renaming /content/datasets/images/Images/n02110806-basenji to /content/datasets/images/Images/basenji  \n",
            "Renaming /content/datasets/images/Images/n02110958-pug to /content/datasets/images/Images/pug  \n",
            "Renaming /content/datasets/images/Images/n02111129-Leonberg to /content/datasets/images/Images/Leonberg  \n",
            "Renaming /content/datasets/images/Images/n02111277-Newfoundland to /content/datasets/images/Images/Newfoundland  \n",
            "Renaming /content/datasets/images/Images/n02111500-Great_Pyrenees to /content/datasets/images/Images/Great Pyrenees  \n",
            "Renaming /content/datasets/images/Images/n02111889-Samoyed to /content/datasets/images/Images/Samoyed  \n",
            "Renaming /content/datasets/images/Images/n02112018-Pomeranian to /content/datasets/images/Images/Pomeranian  \n",
            "Renaming /content/datasets/images/Images/n02112137-chow to /content/datasets/images/Images/chow  \n",
            "Renaming /content/datasets/images/Images/n02112350-keeshond to /content/datasets/images/Images/keeshond  \n",
            "Renaming /content/datasets/images/Images/n02112706-Brabancon_griffon to /content/datasets/images/Images/Brabancon griffon  \n",
            "Renaming /content/datasets/images/Images/n02113023-Pembroke to /content/datasets/images/Images/Pembroke  \n",
            "Renaming /content/datasets/images/Images/n02113186-Cardigan to /content/datasets/images/Images/Cardigan  \n",
            "Renaming /content/datasets/images/Images/n02113624-toy_poodle to /content/datasets/images/Images/toy poodle  \n",
            "Renaming /content/datasets/images/Images/n02113712-miniature_poodle to /content/datasets/images/Images/miniature poodle  \n",
            "Renaming /content/datasets/images/Images/n02113799-standard_poodle to /content/datasets/images/Images/standard poodle  \n",
            "Renaming /content/datasets/images/Images/n02113978-Mexican_hairless to /content/datasets/images/Images/Mexican hairless  \n",
            "Renaming /content/datasets/images/Images/n02115641-dingo to /content/datasets/images/Images/dingo  \n",
            "Renaming /content/datasets/images/Images/n02115913-dhole to /content/datasets/images/Images/dhole  \n",
            "Renaming /content/datasets/images/Images/n02116738-African_hunting_dog to /content/datasets/images/Images/African hunting dog  \n",
            "All Directories' name have been fixed! Happy classifying!\n"
          ],
          "name": "stdout"
        }
      ]
    },
    {
      "cell_type": "code",
      "metadata": {
        "id": "y4pGPo38whl_",
        "outputId": "55f0560b-0380-4d00-d86b-cb23a37cfb5e",
        "colab": {
          "base_uri": "https://localhost:8080/",
          "height": 35
        }
      },
      "source": [
        "# All labels here will have only 150 images, so the number of images in each label are the same\n",
        "def cut_to_number_of_data(label_directory, min_data):\n",
        "  images = os.listdir(label_directory)\n",
        "  length_images = len(images)\n",
        "  if (length_images > min_data):\n",
        "    for index in range(min_data, length_images):\n",
        "      os.remove(label_directory + \"/\" + images[index])\n",
        "labels = os.listdir(images_directory_path)\n",
        "for label in labels:\n",
        "  cut_to_number_of_data(images_directory_path + label, 150)\n",
        "\n",
        "print(\"Successfully deleted overflowed data!\")"
      ],
      "execution_count": 7,
      "outputs": [
        {
          "output_type": "stream",
          "text": [
            "Successfully deleted overflowed data!\n"
          ],
          "name": "stdout"
        }
      ]
    },
    {
      "cell_type": "code",
      "metadata": {
        "id": "2OYVw9AsDX7j",
        "outputId": "e9d06e65-b687-44d6-824d-84012c03fa94",
        "colab": {
          "base_uri": "https://localhost:8080/",
          "height": 35
        }
      },
      "source": [
        "# Reduce the number of labels. In this case, there are 70 labels\n",
        "labels = os.listdir(images_directory_path)\n",
        "def cut_to_number_of_labels(images_directory_path, starting_index):\n",
        "  for index in range (starting_index, len(labels)):\n",
        "    shutil.rmtree(images_directory_path + \"/\" + labels[index])\n",
        "\n",
        "cut_to_number_of_labels(images_directory_path, 70)\n",
        "print(\"Successfully narrowing number of labels!\")"
      ],
      "execution_count": 8,
      "outputs": [
        {
          "output_type": "stream",
          "text": [
            "Successfully narrowing number of labels!\n"
          ],
          "name": "stdout"
        }
      ]
    },
    {
      "cell_type": "code",
      "metadata": {
        "id": "FDCoG5OZ9XAt",
        "outputId": "fd072cac-f4fb-4053-d2ca-c74e82ad180f",
        "colab": {
          "base_uri": "https://localhost:8080/",
          "height": 52
        }
      },
      "source": [
        "def get_image_data_generator(rotate):\n",
        "  return ImageDataGenerator(validation_split=0.2,\n",
        "                             rescale=1./255,\n",
        "                             rotation_range=rotate,\n",
        "                             horizontal_flip=True,\n",
        "                             fill_mode='nearest')\n",
        "  \n",
        "def datagen_flow_from_directory(base_dir, datagen, subset_type):\n",
        "  return datagen.flow_from_directory(\n",
        "    base_dir,\n",
        "    target_size=(331,331),\n",
        "    subset=subset_type,\n",
        "    batch_size=8,\n",
        "    class_mode=\"categorical\")\n",
        "  \n",
        "\n",
        "datagen = get_image_data_generator(5)\n",
        "train_generator = datagen_flow_from_directory(images_directory_path, datagen, \"training\")\n",
        "val_generator = datagen_flow_from_directory(images_directory_path, datagen, \"validation\")"
      ],
      "execution_count": 14,
      "outputs": [
        {
          "output_type": "stream",
          "text": [
            "Found 8400 images belonging to 70 classes.\n",
            "Found 2099 images belonging to 70 classes.\n"
          ],
          "name": "stdout"
        }
      ]
    },
    {
      "cell_type": "code",
      "metadata": {
        "id": "A298gc1ENW7B",
        "outputId": "6ce2f848-83c3-4bed-b617-4b535349fe59",
        "colab": {
          "base_uri": "https://localhost:8080/",
          "height": 728
        }
      },
      "source": [
        "class ReportCallback(tf.keras.callbacks.Callback):\n",
        "  def on_train_begin(self, logs=None):\n",
        "    print(\"Training has been started!\")\n",
        "  def on_train_end(self, logs=None):\n",
        "    print(\"Training has ended!\")\n",
        "  def on_epoch_end(self, batch, logs=None):\n",
        "    expected_value = 0.921\n",
        "    if (logs[\"accuracy\"] >= expected_value and logs[\"val_accuracy\"] >= expected_value):\n",
        "      print(\"\\nTraining model have reached \", expected_value, \". Exit training process...\")\n",
        "      self.model.stop_training = True\n",
        "\n",
        "\n",
        "def get_dense_layer(units):\n",
        "  return layers.Dense(units, activation=\"relu\")\n",
        "\n",
        "def get_output_layer(class_count):\n",
        "  return layers.Dense(class_count,\n",
        "                      activation=\"softmax\")\n",
        "\n",
        "def get_conv_layer_2D(units):\n",
        "  return layers.Conv2D(units,\n",
        "                       (3,3),\n",
        "                       strides=1,\n",
        "                       dilation_rate=2,\n",
        "                       activation=\"relu\",\n",
        "                       padding=\"same\")\n",
        "\n",
        "\n",
        "def get_max_pooling_2D_layer():\n",
        "  return layers.MaxPooling2D(2,2)\n",
        "\n",
        "def get_first_nas_net_layer():\n",
        "  return tf.keras.applications.NASNetLarge(weights=\"imagenet\", include_top=False, input_shape=(331,331,3))\n",
        "\n",
        "def step_decay(epoch):\n",
        "  initial_lrate = 0.0005\n",
        "  drop = 0.5\n",
        "  epochs_drop = 15.0\n",
        "  lrate = initial_lrate * math.pow(drop, math.floor((1+epoch)/epochs_drop))\n",
        "  return lrate\n",
        "\n",
        "\n",
        "model = tf.keras.models.Sequential([get_first_nas_net_layer(),\n",
        "                                    get_conv_layer_2D(64),\n",
        "                                    get_max_pooling_2D_layer(),\n",
        "                                    get_conv_layer_2D(128),\n",
        "                                    get_max_pooling_2D_layer(),\n",
        "                                    layers.BatchNormalization(),\n",
        "                                    layers.Flatten(),\n",
        "                                    get_dense_layer(128),\n",
        "                                    get_dense_layer(256),\n",
        "                                    layers.BatchNormalization(),\n",
        "                                    get_output_layer(70)])\n",
        "\n",
        "model.layers[0].trainable = False\n",
        "report_callback = ReportCallback()\n",
        "report_callback.model = model\n",
        "\n",
        "lrate = LearningRateScheduler(step_decay)\n",
        "\n",
        "model.compile(optimizer=tf.keras.optimizers.Adam(),\n",
        "              loss=\"categorical_crossentropy\",\n",
        "              metrics=[\"accuracy\"])\n",
        "\n",
        "result = model.fit(train_generator,\n",
        "                   batch_size=8,\n",
        "                   validation_steps=10,\n",
        "                   steps_per_epoch=10,\n",
        "                   epochs=40,\n",
        "                   callbacks=[report_callback, lrate],\n",
        "                   validation_data=val_generator)"
      ],
      "execution_count": 15,
      "outputs": [
        {
          "output_type": "stream",
          "text": [
            "Training has been started!\n",
            "Epoch 1/40\n",
            "10/10 [==============================] - 18s 2s/step - loss: 4.3633 - accuracy: 0.0625 - val_loss: 4.4198 - val_accuracy: 0.0375\n",
            "Epoch 2/40\n",
            "10/10 [==============================] - 13s 1s/step - loss: 3.5286 - accuracy: 0.2625 - val_loss: 4.2939 - val_accuracy: 0.1500\n",
            "Epoch 3/40\n",
            "10/10 [==============================] - 13s 1s/step - loss: 3.1099 - accuracy: 0.3500 - val_loss: 4.0429 - val_accuracy: 0.1375\n",
            "Epoch 4/40\n",
            "10/10 [==============================] - 13s 1s/step - loss: 2.8291 - accuracy: 0.4000 - val_loss: 3.5009 - val_accuracy: 0.1875\n",
            "Epoch 5/40\n",
            "10/10 [==============================] - 13s 1s/step - loss: 2.3184 - accuracy: 0.5500 - val_loss: 3.1798 - val_accuracy: 0.3250\n",
            "Epoch 6/40\n",
            "10/10 [==============================] - 13s 1s/step - loss: 2.2382 - accuracy: 0.5625 - val_loss: 3.2641 - val_accuracy: 0.3500\n",
            "Epoch 7/40\n",
            "10/10 [==============================] - 13s 1s/step - loss: 1.7399 - accuracy: 0.6375 - val_loss: 2.4797 - val_accuracy: 0.4000\n",
            "Epoch 8/40\n",
            "10/10 [==============================] - 13s 1s/step - loss: 1.5804 - accuracy: 0.6875 - val_loss: 2.2244 - val_accuracy: 0.4500\n",
            "Epoch 9/40\n",
            "10/10 [==============================] - 13s 1s/step - loss: 1.3439 - accuracy: 0.7750 - val_loss: 1.7900 - val_accuracy: 0.5875\n",
            "Epoch 10/40\n",
            "10/10 [==============================] - 13s 1s/step - loss: 1.4692 - accuracy: 0.7500 - val_loss: 1.6645 - val_accuracy: 0.6750\n",
            "Epoch 11/40\n",
            "10/10 [==============================] - 13s 1s/step - loss: 1.2190 - accuracy: 0.8125 - val_loss: 1.4889 - val_accuracy: 0.7375\n",
            "Epoch 12/40\n",
            "10/10 [==============================] - 13s 1s/step - loss: 1.1324 - accuracy: 0.8125 - val_loss: 1.1113 - val_accuracy: 0.8000\n",
            "Epoch 13/40\n",
            "10/10 [==============================] - 13s 1s/step - loss: 0.8822 - accuracy: 0.8625 - val_loss: 0.9020 - val_accuracy: 0.9250\n",
            "Epoch 14/40\n",
            "10/10 [==============================] - 13s 1s/step - loss: 0.8026 - accuracy: 0.9250 - val_loss: 0.7956 - val_accuracy: 0.8875\n",
            "Epoch 15/40\n",
            "10/10 [==============================] - 13s 1s/step - loss: 0.7840 - accuracy: 0.8625 - val_loss: 0.7943 - val_accuracy: 0.8875\n",
            "Epoch 16/40\n",
            "10/10 [==============================] - 13s 1s/step - loss: 0.7164 - accuracy: 0.8750 - val_loss: 0.6722 - val_accuracy: 0.9125\n",
            "Epoch 17/40\n",
            "10/10 [==============================] - 13s 1s/step - loss: 0.6556 - accuracy: 0.9625 - val_loss: 0.6871 - val_accuracy: 0.9000\n",
            "Epoch 18/40\n",
            "10/10 [==============================] - ETA: 0s - loss: 0.5365 - accuracy: 0.9500\n",
            "Training model have reached  0.921 . Exit training process...\n",
            "10/10 [==============================] - 13s 1s/step - loss: 0.5365 - accuracy: 0.9500 - val_loss: 0.4563 - val_accuracy: 0.9250\n",
            "Training has ended!\n"
          ],
          "name": "stdout"
        }
      ]
    },
    {
      "cell_type": "code",
      "metadata": {
        "id": "ejuO6CW7e4Yn",
        "outputId": "10891f48-9692-4ef9-84bd-1abf475fd49f",
        "colab": {
          "base_uri": "https://localhost:8080/",
          "height": 573
        }
      },
      "source": [
        "def plot_data(metric1, metric2, title):\n",
        "  plt.plot(result.history[metric1])\n",
        "  plt.plot(result.history[metric2])\n",
        "  plt.title(title)\n",
        "  plt.ylabel(\"Value\")\n",
        "  plt.xlabel(\"Epochs\")\n",
        "  plt.legend([metric1, metric2], loc=\"upper right\")\n",
        "  plt.show()\n",
        "\n",
        "metrics = [[\"accuracy\", \"val_accuracy\", \"Accuracy Plot\"], [\"loss\", \"val_loss\", \"Loss Plot\"]]\n",
        "\n",
        "for [metric1, metric2, title] in metrics:\n",
        "  plot_data(metric1, metric2, title)"
      ],
      "execution_count": 17,
      "outputs": [
        {
          "output_type": "display_data",
          "data": {
            "image/png": "[encoded data removed]",
            "text/plain": [
              "<Figure size 432x288 with 1 Axes>"
            ]
          },
          "metadata": {
            "tags": [],
            "needs_background": "light"
          }
        },
        {
          "output_type": "display_data",
          "data": {
            "image/png": "[encoded data removed]",
            "text/plain": [
              "<Figure size 432x288 with 1 Axes>"
            ]
          },
          "metadata": {
            "tags": [],
            "needs_background": "light"
          }
        }
      ]
    },
    {
      "cell_type": "code",
      "metadata": {
        "id": "S-LVnak477jz",
        "outputId": "bbe6ed99-c1fb-4bf0-df9f-56dc5823505c",
        "colab": {
          "base_uri": "https://localhost:8080/",
          "height": 179
        }
      },
      "source": [
        "converter = tf.lite.TFLiteConverter.from_keras_model(model)\n",
        "tflite_model = converter.convert()\n",
        "with tf.io.gfile.GFile(\"model.tflite\", \"wb\") as f:\n",
        "  f.write(tflite_model)\n",
        "print(\"Successfully converted the model to TFLite format!\")"
      ],
      "execution_count": 18,
      "outputs": [
        {
          "output_type": "stream",
          "text": [
            "WARNING:tensorflow:From /usr/local/lib/python3.6/dist-packages/tensorflow/python/training/tracking/tracking.py:111: Model.state_updates (from tensorflow.python.keras.engine.training) is deprecated and will be removed in a future version.\n",
            "Instructions for updating:\n",
            "This property should not be used in TensorFlow 2.0, as updates are applied automatically.\n",
            "WARNING:tensorflow:From /usr/local/lib/python3.6/dist-packages/tensorflow/python/training/tracking/tracking.py:111: Layer.updates (from tensorflow.python.keras.engine.base_layer) is deprecated and will be removed in a future version.\n",
            "Instructions for updating:\n",
            "This property should not be used in TensorFlow 2.0, as updates are applied automatically.\n",
            "INFO:tensorflow:Assets written to: /tmp/tmpb8afbd28/assets\n",
            "Successfully converted the model to TFLite format!\n"
          ],
          "name": "stdout"
        }
      ]
    }
  ]
}